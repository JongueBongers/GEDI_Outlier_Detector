{
 "cells": [
  {
   "metadata": {},
   "cell_type": "markdown",
   "source": [
    "# RH50 vs RH98\n",
    "Here we will plot the 98th percentile of relative height against the 50th percentile with a color gradient showing the density of data points using gaussian_kde."
   ],
   "id": "69fe0e4eec8b8e0a"
  },
  {
   "cell_type": "code",
   "id": "initial_id",
   "metadata": {
    "collapsed": true,
    "ExecuteTime": {
     "end_time": "2024-10-29T17:00:11.575321Z",
     "start_time": "2024-10-29T17:00:09.942283Z"
    }
   },
   "source": [
    "import numpy as np\n",
    "import matplotlib.pyplot as plt\n",
    "from matplotlib.colors import LinearSegmentedColormap\n",
    "import h5py\n",
    "from scipy.stats import gaussian_kde\n",
    "from mpl_scatter_density import ScatterDensityArtist"
   ],
   "outputs": [],
   "execution_count": 1
  },
  {
   "metadata": {
    "ExecuteTime": {
     "end_time": "2024-10-29T17:00:11.587828Z",
     "start_time": "2024-10-29T17:00:11.577143Z"
    }
   },
   "cell_type": "code",
   "source": [
    "def h5_to_dict(group):\n",
    "    \"\"\"\n",
    "    Recursively converts an h5 group into a dictionary of numpy arrays.\n",
    "    \"\"\"\n",
    "    data_dict = {}\n",
    "    for key in group:\n",
    "        item = group[key]\n",
    "        if isinstance(item, h5py.Group):\n",
    "            data_dict[key] = h5_to_dict(item)  # Recursively handle nested groups\n",
    "        else:\n",
    "            data_dict[key] = item[:]  # Convert dataset to numpy array\n",
    "    return data_dict\n",
    "\n",
    "def find_rh_data(data_dict):\n",
    "    \"\"\"\n",
    "    Recursively searches for 'rh' key in the dictionary.\n",
    "    Returns the 'rh' data if found, otherwise None.\n",
    "    \"\"\"\n",
    "    for key, value in data_dict.items():\n",
    "        if key == \"rh\":\n",
    "            print(\"Found the 'rh' key in the data dictionary\")\n",
    "            return value\n",
    "        elif isinstance(value, dict):\n",
    "            result = find_rh_data(value)\n",
    "            if result is not None:\n",
    "                return result\n",
    "    return None\n",
    "\n",
    "# def plot_rh_data(rh_data):\n",
    "#     \"\"\"\n",
    "#     Plots the 98th percentile against the 50th percentile of the 'rh' data\n",
    "#     with a color gradient showing the density of data points using gaussian_kde.\n",
    "#     \"\"\"\n",
    "#     if len(rh_data.shape) == 2 and rh_data.shape[1] > 98:\n",
    "#         rh_50th = rh_data[:, 49]  # Assuming 0-based indexing\n",
    "#         rh_98th = rh_data[:, 97]  # Assuming 0-based indexing\n",
    "# \n",
    "#         # Perform a Gaussian kernel density estimate\n",
    "#         xy = np.vstack([rh_50th, rh_98th])\n",
    "#         z = gaussian_kde(xy)(xy)\n",
    "# \n",
    "#         # Sort the points by density, so that the densest points are plotted last\n",
    "#         idx = z.argsort()\n",
    "#         x, y, z = rh_50th[idx], rh_98th[idx], z[idx]\n",
    "# \n",
    "#         # Plot the data\n",
    "#         plt.figure(figsize=(10, 6))\n",
    "#         plt.scatter(x, y, c=z, s=50)\n",
    "#         plt.colorbar(label='Density')\n",
    "#         plt.xlabel('RH50')\n",
    "#         plt.ylabel('RH98')\n",
    "#         plt.title('RH50 vs RH98 with Density by SciPy Gaussian KDE')\n",
    "#         plt.show()\n",
    "#     else:\n",
    "#         print(\"The 'rh' data does not contain the required percentiles.\")\n",
    "\n",
    "white_viridis = LinearSegmentedColormap.from_list('white_viridis', [\n",
    "    (0, '#ffffff'),\n",
    "    (1e-20, '#440053'),\n",
    "    (0.2, '#404388'),\n",
    "    (0.4, '#2a788e'),\n",
    "    (0.6, '#21a784'),\n",
    "    (0.8, '#78d151'),\n",
    "    (1, '#fde624'),\n",
    "], N=256)\n",
    "\n",
    "def plot_rh_data(rh_data):\n",
    "    \"\"\"\n",
    "    Plots the 98th percentile against the 50th percentile of the 'rh' data\n",
    "    with a density gradient using mpl-scatter-density.\n",
    "    \"\"\"\n",
    "    if len(rh_data.shape) == 2 and rh_data.shape[1] > 98:\n",
    "        rh_50th = rh_data[:, 49]  # Assuming 0-based indexing\n",
    "        rh_98th = rh_data[:, 97]  # Assuming 0-based indexing\n",
    "\n",
    "        # Create the density scatter plot\n",
    "        fig = plt.figure(figsize=(10, 6))\n",
    "        ax = fig.add_subplot(1, 1, 1, projection='scatter_density')\n",
    "        density = ax.scatter_density(rh_50th, rh_98th, cmap=white_viridis)\n",
    "        fig.colorbar(density, label='Density')\n",
    "\n",
    "        # Set labels and title\n",
    "        ax.set_xlabel('RH50')\n",
    "        ax.set_ylabel('RH98')\n",
    "        ax.set_title('RH50 vs RH98')\n",
    "        plt.show()\n",
    "    else:\n",
    "        print(\"The 'rh' data does not contain the required percentiles.\")"
   ],
   "id": "42eb536f1b2d03f3",
   "outputs": [],
   "execution_count": 2
  },
  {
   "metadata": {
    "ExecuteTime": {
     "end_time": "2024-10-29T17:00:57.848050Z",
     "start_time": "2024-10-29T17:00:11.588833Z"
    }
   },
   "cell_type": "code",
   "source": [
    "# Path to your .h5 file\n",
    "# file_path = 'GEDI_sample_files/GEDI02_A_2021050140102_O12405_02_T10912_02_003_02_V002.h5'\n",
    "file_path = 'GEDI_sample_files/GEDI02_A_2021086153349_O12964_03_T08275_02_003_02_V002.h5'\n",
    "# Open the .h5 file in read mode and convert it to a dictionary\n",
    "with h5py.File(file_path, 'r') as h5_file:\n",
    "    data_dict = {}\n",
    "    for group_name in h5_file:\n",
    "        print(\"Converting group:\", group_name)\n",
    "        group = h5_file[group_name]\n",
    "        data_dict[group_name] = h5_to_dict(group)\n",
    "print(\"Done converting the .h5 file to a dictionary.\")"
   ],
   "id": "aa7091831c8b1de",
   "outputs": [
    {
     "name": "stdout",
     "output_type": "stream",
     "text": [
      "Converting group: BEAM0000\n",
      "Converting group: BEAM0001\n",
      "Converting group: BEAM0010\n",
      "Converting group: BEAM0011\n",
      "Converting group: BEAM0101\n",
      "Converting group: BEAM0110\n",
      "Converting group: BEAM1000\n",
      "Converting group: BEAM1011\n",
      "Converting group: METADATA\n",
      "Done converting the .h5 file to a dictionary.\n"
     ]
    }
   ],
   "execution_count": 3
  },
  {
   "metadata": {
    "ExecuteTime": {
     "end_time": "2024-10-29T17:00:58.456283Z",
     "start_time": "2024-10-29T17:00:57.862741Z"
    }
   },
   "cell_type": "code",
   "source": [
    "# Find and plot the 'rh' data\n",
    "rh_data = find_rh_data(data_dict)\n",
    "if rh_data is not None:\n",
    "    plot_rh_data(rh_data)\n",
    "else:\n",
    "    print(\"The 'rh' key does not exist in the data dictionary.\")"
   ],
   "id": "d9be4d97b7bb35c6",
   "outputs": [
    {
     "name": "stdout",
     "output_type": "stream",
     "text": [
      "Found the 'rh' key in the data dictionary\n"
     ]
    },
    {
     "name": "stderr",
     "output_type": "stream",
     "text": [
      "C:\\Users\\jingb\\.conda\\envs\\GEDI\\Lib\\site-packages\\mpl_scatter_density\\generic_density_artist.py:77: RuntimeWarning: All-NaN slice encountered\n",
      "  vmin = self._density_vmin(array)\n",
      "C:\\Users\\jingb\\.conda\\envs\\GEDI\\Lib\\site-packages\\mpl_scatter_density\\generic_density_artist.py:82: RuntimeWarning: All-NaN slice encountered\n",
      "  vmax = self._density_vmax(array)\n"
     ]
    },
    {
     "data": {
      "text/plain": [
       "<Figure size 1000x600 with 2 Axes>"
      ],
      "image/png": "[encoded data removed]"
     },
     "metadata": {},
     "output_type": "display_data"
    }
   ],
   "execution_count": 4
  },
  {
   "metadata": {},
   "cell_type": "code",
   "source": [
    "# Fake data for testing\n",
    "x = np.random.normal(size=100000)\n",
    "y = x * 3 + np.random.normal(size=100000)\n",
    "\n",
    "\n",
    "\n",
    " # Create the density scatter plot\n",
    "fig = plt.figure(figsize=(10, 6))\n",
    "ax = fig.add_subplot(1, 1, 1, projection='scatter_density')\n",
    "density = ax.scatter_density(x, y, cmap=white_viridis)\n",
    "fig.colorbar(density, label='Density')\n",
    "\n",
    "# Set labels and title\n",
    "ax.set_xlabel('RH50')\n",
    "ax.set_ylabel('RH98')\n",
    "ax.set_title('RH50 vs RH98')\n",
    "plt.show()"
   ],
   "id": "de626cb27c39ce58",
   "outputs": [],
   "execution_count": null
  }
 ],
 "metadata": {
  "kernelspec": {
   "display_name": "Python 3",
   "language": "python",
   "name": "python3"
  },
  "language_info": {
   "codemirror_mode": {
    "name": "ipython",
    "version": 2
   },
   "file_extension": ".py",
   "mimetype": "text/x-python",
   "name": "python",
   "nbconvert_exporter": "python",
   "pygments_lexer": "ipython2",
   "version": "2.7.6"
  }
 },
 "nbformat": 4,
 "nbformat_minor": 5
}
